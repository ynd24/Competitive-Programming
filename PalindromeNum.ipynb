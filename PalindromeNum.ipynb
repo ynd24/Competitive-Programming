{
 "cells": [
  {
   "cell_type": "markdown",
   "metadata": {},
   "source": [
    "Given an integer x, return true if x is palindrome integer.\n",
    "\n",
    "An integer is a palindrome when it reads the same backward as forward.\n",
    "\n",
    "For example, 121 is a palindrome while 123 is not.\n",
    " \n",
    "\n",
    "Example 1:\n",
    "\n",
    "Input: x = 121\n",
    "Output: true\n",
    "Explanation: 121 reads as 121 from left to right and from right to left."
   ]
  },
  {
   "cell_type": "code",
   "execution_count": 3,
   "metadata": {},
   "outputs": [],
   "source": [
    "\n",
    "def isPalindrome(x):\n",
    "    s1 = str(x) # convert int to str\n",
    "        \n",
    "    if len(s1) % 2 != 0: # odd number of nums\n",
    "        midpt = int((len(s1)+1)/2) - 1 # indexing at 0, so for len = 5, mdpt = 2 -> 0,1,2,3,4\n",
    "    else: # even\n",
    "        midpt = int(len(s1)/2)\n",
    "        \n",
    "\n",
    "    stack = [] # stack as list\n",
    "\n",
    "    if len(s1) == 2 and s1[0] != s1[1]:\n",
    "        return False # edge case\n",
    "        \n",
    "    if len(s1) % 2 == 0: # for even\n",
    "            \n",
    "        for i in range(0, midpt): # till just before mdpt\n",
    "            stack.append(s1[i]) # add all chars to stack\n",
    "            \n",
    "        for j in range(midpt, int(len(s1))): # from mdpt onwards\n",
    "                \n",
    "            if stack.pop() != s1[j]: # if poped ele != s[j] false\n",
    "                return False\n",
    "            else:\n",
    "                if stack == []: # if all ele are popped then true\n",
    "                    return True\n",
    "                \n",
    "        return len(stack) == 0\n",
    "                \n",
    "\n",
    "    else: \n",
    "        for i in range(0, midpt): # add till midpoint \n",
    "            stack.append(s1[i])\n",
    "                \n",
    "        for j in range(midpt+1,len(s1)): # since odd we want to start one ahead of midpoint\n",
    "                 \n",
    "            if stack.pop() != s1[j]:\n",
    "                return False\n",
    "            else:\n",
    "                if stack == []:\n",
    "                    return True\n",
    "                \n",
    "                \n",
    "        return len(stack) == 0\n",
    "        \n",
    "       \n",
    "\n",
    "        \n",
    "            "
   ]
  },
  {
   "cell_type": "code",
   "execution_count": 4,
   "metadata": {},
   "outputs": [
    {
     "data": {
      "text/plain": [
       "True"
      ]
     },
     "execution_count": 4,
     "metadata": {},
     "output_type": "execute_result"
    }
   ],
   "source": [
    "isPalindrome(1441)"
   ]
  },
  {
   "cell_type": "code",
   "execution_count": 5,
   "metadata": {},
   "outputs": [
    {
     "data": {
      "text/plain": [
       "False"
      ]
     },
     "execution_count": 5,
     "metadata": {},
     "output_type": "execute_result"
    }
   ],
   "source": [
    "isPalindrome(123454312)"
   ]
  },
  {
   "cell_type": "code",
   "execution_count": null,
   "metadata": {},
   "outputs": [],
   "source": []
  }
 ],
 "metadata": {
  "interpreter": {
   "hash": "aee8b7b246df8f9039afb4144a1f6fd8d2ca17a180786b69acc140d282b71a49"
  },
  "kernelspec": {
   "display_name": "Python 3.10.4 64-bit",
   "language": "python",
   "name": "python3"
  },
  "language_info": {
   "codemirror_mode": {
    "name": "ipython",
    "version": 3
   },
   "file_extension": ".py",
   "mimetype": "text/x-python",
   "name": "python",
   "nbconvert_exporter": "python",
   "pygments_lexer": "ipython3",
   "version": "3.10.4"
  },
  "orig_nbformat": 4
 },
 "nbformat": 4,
 "nbformat_minor": 2
}

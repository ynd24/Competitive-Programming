{
 "cells": [
  {
   "cell_type": "markdown",
   "metadata": {},
   "source": [
    "The string \"PAYPALISHIRING\" is written in a zigzag pattern on a given number of rows like this: (you may want to display this pattern in a fixed font for better legibility)\n",
    "\n",
    "P   A   H   N\n",
    "A P L S I I G\n",
    "Y   I   R\n",
    "And then read line by line: \"PAHNAPLSIIGYIR\""
   ]
  },
  {
   "cell_type": "code",
   "execution_count": 1,
   "metadata": {},
   "outputs": [],
   "source": [
    "class Solution(object):\n",
    "    \n",
    "    def convert(self, s, numRows):\n",
    "        \n",
    "        output = [''] * numRows # num of indexes = numRows \n",
    "        row_pointer = 1 # as we iterate the string we go for n = 3, 1,2,3,2,1,2,3 this will be those nums\n",
    "        going_up = True # true till it equals numRows and true when == 1\n",
    "        \n",
    "        if numRows == 1: # edge case \n",
    "            return s\n",
    "        \n",
    "        for let in s:\n",
    "            \n",
    "            output[row_pointer-1] += let # we add the letter to the index depending on rowpointer\n",
    "            \n",
    "            if row_pointer == numRows: # our condition to decrease pointer\n",
    "                going_up = False\n",
    "            elif row_pointer == 1: # condition to increase pointer\n",
    "                going_up = True \n",
    "                \n",
    "            if going_up:\n",
    "                row_pointer += 1\n",
    "            else:\n",
    "                row_pointer -= 1\n",
    "                \n",
    "        return \"\".join(output)\n",
    "        "
   ]
  },
  {
   "cell_type": "code",
   "execution_count": null,
   "metadata": {},
   "outputs": [],
   "source": []
  }
 ],
 "metadata": {
  "interpreter": {
   "hash": "aee8b7b246df8f9039afb4144a1f6fd8d2ca17a180786b69acc140d282b71a49"
  },
  "kernelspec": {
   "display_name": "Python 3.10.4 64-bit",
   "language": "python",
   "name": "python3"
  },
  "language_info": {
   "codemirror_mode": {
    "name": "ipython",
    "version": 3
   },
   "file_extension": ".py",
   "mimetype": "text/x-python",
   "name": "python",
   "nbconvert_exporter": "python",
   "pygments_lexer": "ipython3",
   "version": "3.10.4"
  },
  "orig_nbformat": 4
 },
 "nbformat": 4,
 "nbformat_minor": 2
}

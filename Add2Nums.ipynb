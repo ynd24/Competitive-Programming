{
 "cells": [
  {
   "cell_type": "markdown",
   "metadata": {},
   "source": [
    "You are given two non-empty linked lists representing two non-negative integers. The digits are stored in reverse order, and each of their nodes contains a single digit. Add the two numbers and return the sum as a linked list.\n",
    "\n",
    "You may assume the two numbers do not contain any leading zero, except the number 0 itself.\n"
   ]
  },
  {
   "cell_type": "code",
   "execution_count": null,
   "metadata": {},
   "outputs": [],
   "source": [
    "class ListNode(object):\n",
    "    def __init__(self, val=0, next=None):\n",
    "        self.val = val\n",
    "        self.next = next"
   ]
  },
  {
   "cell_type": "code",
   "execution_count": null,
   "metadata": {},
   "outputs": [],
   "source": [
    "class Solution(object):\n",
    "    \n",
    "    def addTwoNumbers(self, l1, l2):\n",
    "        dummy = cur = ListNode(0) # have a pointer to new node, dummy.next points to head\n",
    "        temp = 0 # sum\n",
    "        \n",
    "        while l1 or l2:\n",
    "            if l1:\n",
    "                temp += l1.val  # add l1 to temp  \n",
    "                l1 = l1.next # increment \n",
    "            if l2:\n",
    "                temp += l2.val # add l2 to temp\n",
    "                l2 = l2.next # increment \n",
    "            \n",
    "            if temp >= 10: # carry over required\n",
    "                cur.next = ListNode(temp - 10) # what gets added to new linkedlist \n",
    "                if l1: # to carry over we add 1\n",
    "                    l1.val += 1\n",
    "                elif l2:\n",
    "                    l2.val += 1\n",
    "                else: # both l1 and l2 are over but we need to carry over 1\n",
    "                    cur.next.next = ListNode(1)\n",
    "                    return dummy.next         \n",
    "            else: # if no carry then just temp is value\n",
    "                cur.next = ListNode(temp) \n",
    "            \n",
    "            cur = cur.next # increment \n",
    "            temp = 0 # reset \n",
    "        \n",
    "        return dummy.next # return head\n",
    "            \n",
    "            \n",
    "            \n",
    "       \n",
    "        "
   ]
  }
 ],
 "metadata": {
  "interpreter": {
   "hash": "aee8b7b246df8f9039afb4144a1f6fd8d2ca17a180786b69acc140d282b71a49"
  },
  "kernelspec": {
   "display_name": "Python 3.10.4 64-bit",
   "language": "python",
   "name": "python3"
  },
  "language_info": {
   "codemirror_mode": {
    "name": "ipython",
    "version": 3
   },
   "file_extension": ".py",
   "mimetype": "text/x-python",
   "name": "python",
   "nbconvert_exporter": "python",
   "pygments_lexer": "ipython3",
   "version": "3.10.4"
  },
  "orig_nbformat": 4
 },
 "nbformat": 4,
 "nbformat_minor": 2
}

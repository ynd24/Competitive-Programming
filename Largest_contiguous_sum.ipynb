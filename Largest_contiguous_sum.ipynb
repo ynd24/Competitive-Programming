{
 "cells": [
  {
   "cell_type": "markdown",
   "metadata": {},
   "source": [
    "Given an integer array nums, find the contiguous subarray (containing at least one number) which has the largest sum and return its sum.\n",
    "\n",
    "A subarray is a contiguous part of an array."
   ]
  },
  {
   "cell_type": "markdown",
   "metadata": {},
   "source": [
    "Input: nums = [-2,1,-3,4,-1,2,1,-5,4]\n",
    "Output: 6\n",
    "Explanation: [4,-1,2,1] has the largest sum = 6."
   ]
  },
  {
   "cell_type": "markdown",
   "metadata": {},
   "source": []
  },
  {
   "cell_type": "code",
   "execution_count": 3,
   "metadata": {},
   "outputs": [],
   "source": [
    "def maxSubArray(nums):\n",
    "    max_sum = nums[0] # max sum is initially set as first ele\n",
    "    current_sum = 0\n",
    "    var = -2000000 # for case of all negative numbers in array\n",
    "    start = temp_start = stop = 0 # trackers    \n",
    "        \n",
    "    for i in range(0, len(nums)):\n",
    "        \n",
    "        current_sum += nums[i] # add first ele to current sum\n",
    "        var = max(var, nums[i]) # temp variable which will be assigned to the max val ele\n",
    "                                # in nums\n",
    "            \n",
    "        if current_sum < 0: # if current is falling below 1 we reset it to 0\n",
    "            current_sum = 0\n",
    "            temp_start = i+1 # restarting count at next ele \n",
    "        \n",
    "        if max_sum < current_sum: # update max sum if less than current\n",
    "            max_sum = current_sum\n",
    "            stop = i # count is ending for now\n",
    "            start = temp_start # where we started our count\n",
    "     \n",
    "    if max_sum == 0: # when all negative integers \n",
    "        return (var, nums.index(var),nums.index(var))\n",
    "    else:\n",
    "        return (max_sum, start, stop)"
   ]
  },
  {
   "cell_type": "code",
   "execution_count": 11,
   "metadata": {},
   "outputs": [
    {
     "data": {
      "text/plain": [
       "(-1, 2, 2)"
      ]
     },
     "execution_count": 11,
     "metadata": {},
     "output_type": "execute_result"
    }
   ],
   "source": [
    "maxSubArray([-2,-45,-1,-20000])"
   ]
  },
  {
   "cell_type": "code",
   "execution_count": 4,
   "metadata": {},
   "outputs": [
    {
     "ename": "AssertionError",
     "evalue": "Tuples differ: (7, 5, 2) != (7, 0, 2)\n\nFirst differing element 1:\n5\n0\n\n- (7, 5, 2)\n?     ^\n\n+ (7, 0, 2)\n?     ^\n",
     "output_type": "error",
     "traceback": [
      "\u001b[0;31m---------------------------------------------------------------------------\u001b[0m",
      "\u001b[0;31mAssertionError\u001b[0m                            Traceback (most recent call last)",
      "\u001b[1;32m/Users/sunilnihalduggal/Desktop/CS-projects/LeetCode/Largest_contiguous_sum.ipynb Cell 6'\u001b[0m in \u001b[0;36m<cell line: 17>\u001b[0;34m()\u001b[0m\n\u001b[1;32m     <a href='vscode-notebook-cell:/Users/sunilnihalduggal/Desktop/CS-projects/LeetCode/Largest_contiguous_sum.ipynb#ch0000005?line=14'>15</a>\u001b[0m \u001b[39m#Run Test\u001b[39;00m\n\u001b[1;32m     <a href='vscode-notebook-cell:/Users/sunilnihalduggal/Desktop/CS-projects/LeetCode/Largest_contiguous_sum.ipynb#ch0000005?line=15'>16</a>\u001b[0m t \u001b[39m=\u001b[39m LargeContTest()\n\u001b[0;32m---> <a href='vscode-notebook-cell:/Users/sunilnihalduggal/Desktop/CS-projects/LeetCode/Largest_contiguous_sum.ipynb#ch0000005?line=16'>17</a>\u001b[0m t\u001b[39m.\u001b[39;49mtest(maxSubArray)\n",
      "\u001b[1;32m/Users/sunilnihalduggal/Desktop/CS-projects/LeetCode/Largest_contiguous_sum.ipynb Cell 6'\u001b[0m in \u001b[0;36mLargeContTest.test\u001b[0;34m(self, sol)\u001b[0m\n\u001b[1;32m      <a href='vscode-notebook-cell:/Users/sunilnihalduggal/Desktop/CS-projects/LeetCode/Largest_contiguous_sum.ipynb#ch0000005?line=7'>8</a>\u001b[0m assert_equal(sol([\u001b[39m-\u001b[39m\u001b[39m1\u001b[39m,\u001b[39m1\u001b[39m]),(\u001b[39m1\u001b[39m,\u001b[39m1\u001b[39m,\u001b[39m1\u001b[39m))\n\u001b[1;32m      <a href='vscode-notebook-cell:/Users/sunilnihalduggal/Desktop/CS-projects/LeetCode/Largest_contiguous_sum.ipynb#ch0000005?line=8'>9</a>\u001b[0m assert_equal(sol([\u001b[39m1\u001b[39m,\u001b[39m2\u001b[39m,\u001b[39m4\u001b[39m,\u001b[39m-\u001b[39m\u001b[39m3\u001b[39m,\u001b[39m-\u001b[39m\u001b[39m5\u001b[39m,\u001b[39m6\u001b[39m,\u001b[39m6\u001b[39m,\u001b[39m6\u001b[39m]),(\u001b[39m18\u001b[39m,\u001b[39m5\u001b[39m,\u001b[39m7\u001b[39m))\n\u001b[0;32m---> <a href='vscode-notebook-cell:/Users/sunilnihalduggal/Desktop/CS-projects/LeetCode/Largest_contiguous_sum.ipynb#ch0000005?line=9'>10</a>\u001b[0m assert_equal(sol([\u001b[39m1\u001b[39;49m,\u001b[39m2\u001b[39;49m,\u001b[39m4\u001b[39;49m,\u001b[39m-\u001b[39;49m\u001b[39m3\u001b[39;49m,\u001b[39m-\u001b[39;49m\u001b[39m5\u001b[39;49m,\u001b[39m2\u001b[39;49m,\u001b[39m2\u001b[39;49m]),(\u001b[39m7\u001b[39;49m,\u001b[39m0\u001b[39;49m,\u001b[39m2\u001b[39;49m))\n\u001b[1;32m     <a href='vscode-notebook-cell:/Users/sunilnihalduggal/Desktop/CS-projects/LeetCode/Largest_contiguous_sum.ipynb#ch0000005?line=10'>11</a>\u001b[0m assert_equal(sol([\u001b[39m2\u001b[39m, \u001b[39m3\u001b[39m, \u001b[39m-\u001b[39m\u001b[39m6\u001b[39m, \u001b[39m3\u001b[39m, \u001b[39m4\u001b[39m, \u001b[39m5\u001b[39m, \u001b[39m-\u001b[39m\u001b[39m15\u001b[39m]),(\u001b[39m12\u001b[39m,\u001b[39m3\u001b[39m,\u001b[39m5\u001b[39m))\n\u001b[1;32m     <a href='vscode-notebook-cell:/Users/sunilnihalduggal/Desktop/CS-projects/LeetCode/Largest_contiguous_sum.ipynb#ch0000005?line=11'>12</a>\u001b[0m assert_equal(sol([\u001b[39m-\u001b[39m\u001b[39m20\u001b[39m, \u001b[39m-\u001b[39m\u001b[39m10\u001b[39m, \u001b[39m-\u001b[39m\u001b[39m15\u001b[39m, \u001b[39m-\u001b[39m\u001b[39m9\u001b[39m]),(\u001b[39m-\u001b[39m\u001b[39m9\u001b[39m,\u001b[39m3\u001b[39m,\u001b[39m3\u001b[39m))\n",
      "File \u001b[0;32m/Library/Frameworks/Python.framework/Versions/3.10/lib/python3.10/unittest/case.py:845\u001b[0m, in \u001b[0;36mTestCase.assertEqual\u001b[0;34m(self, first, second, msg)\u001b[0m\n\u001b[1;32m    <a href='file:///Library/Frameworks/Python.framework/Versions/3.10/lib/python3.10/unittest/case.py?line=840'>841</a>\u001b[0m \u001b[39m\"\"\"Fail if the two objects are unequal as determined by the '=='\u001b[39;00m\n\u001b[1;32m    <a href='file:///Library/Frameworks/Python.framework/Versions/3.10/lib/python3.10/unittest/case.py?line=841'>842</a>\u001b[0m \u001b[39m   operator.\u001b[39;00m\n\u001b[1;32m    <a href='file:///Library/Frameworks/Python.framework/Versions/3.10/lib/python3.10/unittest/case.py?line=842'>843</a>\u001b[0m \u001b[39m\"\"\"\u001b[39;00m\n\u001b[1;32m    <a href='file:///Library/Frameworks/Python.framework/Versions/3.10/lib/python3.10/unittest/case.py?line=843'>844</a>\u001b[0m assertion_func \u001b[39m=\u001b[39m \u001b[39mself\u001b[39m\u001b[39m.\u001b[39m_getAssertEqualityFunc(first, second)\n\u001b[0;32m--> <a href='file:///Library/Frameworks/Python.framework/Versions/3.10/lib/python3.10/unittest/case.py?line=844'>845</a>\u001b[0m assertion_func(first, second, msg\u001b[39m=\u001b[39;49mmsg)\n",
      "File \u001b[0;32m/Library/Frameworks/Python.framework/Versions/3.10/lib/python3.10/unittest/case.py:1062\u001b[0m, in \u001b[0;36mTestCase.assertTupleEqual\u001b[0;34m(self, tuple1, tuple2, msg)\u001b[0m\n\u001b[1;32m   <a href='file:///Library/Frameworks/Python.framework/Versions/3.10/lib/python3.10/unittest/case.py?line=1052'>1053</a>\u001b[0m \u001b[39mdef\u001b[39;00m \u001b[39massertTupleEqual\u001b[39m(\u001b[39mself\u001b[39m, tuple1, tuple2, msg\u001b[39m=\u001b[39m\u001b[39mNone\u001b[39;00m):\n\u001b[1;32m   <a href='file:///Library/Frameworks/Python.framework/Versions/3.10/lib/python3.10/unittest/case.py?line=1053'>1054</a>\u001b[0m     \u001b[39m\"\"\"A tuple-specific equality assertion.\u001b[39;00m\n\u001b[1;32m   <a href='file:///Library/Frameworks/Python.framework/Versions/3.10/lib/python3.10/unittest/case.py?line=1054'>1055</a>\u001b[0m \n\u001b[1;32m   <a href='file:///Library/Frameworks/Python.framework/Versions/3.10/lib/python3.10/unittest/case.py?line=1055'>1056</a>\u001b[0m \u001b[39m    Args:\u001b[39;00m\n\u001b[0;32m   (...)\u001b[0m\n\u001b[1;32m   <a href='file:///Library/Frameworks/Python.framework/Versions/3.10/lib/python3.10/unittest/case.py?line=1059'>1060</a>\u001b[0m \u001b[39m                differences.\u001b[39;00m\n\u001b[1;32m   <a href='file:///Library/Frameworks/Python.framework/Versions/3.10/lib/python3.10/unittest/case.py?line=1060'>1061</a>\u001b[0m \u001b[39m    \"\"\"\u001b[39;00m\n\u001b[0;32m-> <a href='file:///Library/Frameworks/Python.framework/Versions/3.10/lib/python3.10/unittest/case.py?line=1061'>1062</a>\u001b[0m     \u001b[39mself\u001b[39;49m\u001b[39m.\u001b[39;49massertSequenceEqual(tuple1, tuple2, msg, seq_type\u001b[39m=\u001b[39;49m\u001b[39mtuple\u001b[39;49m)\n",
      "File \u001b[0;32m/Library/Frameworks/Python.framework/Versions/3.10/lib/python3.10/unittest/case.py:1033\u001b[0m, in \u001b[0;36mTestCase.assertSequenceEqual\u001b[0;34m(self, seq1, seq2, msg, seq_type)\u001b[0m\n\u001b[1;32m   <a href='file:///Library/Frameworks/Python.framework/Versions/3.10/lib/python3.10/unittest/case.py?line=1030'>1031</a>\u001b[0m standardMsg \u001b[39m=\u001b[39m \u001b[39mself\u001b[39m\u001b[39m.\u001b[39m_truncateMessage(standardMsg, diffMsg)\n\u001b[1;32m   <a href='file:///Library/Frameworks/Python.framework/Versions/3.10/lib/python3.10/unittest/case.py?line=1031'>1032</a>\u001b[0m msg \u001b[39m=\u001b[39m \u001b[39mself\u001b[39m\u001b[39m.\u001b[39m_formatMessage(msg, standardMsg)\n\u001b[0;32m-> <a href='file:///Library/Frameworks/Python.framework/Versions/3.10/lib/python3.10/unittest/case.py?line=1032'>1033</a>\u001b[0m \u001b[39mself\u001b[39;49m\u001b[39m.\u001b[39;49mfail(msg)\n",
      "File \u001b[0;32m/Library/Frameworks/Python.framework/Versions/3.10/lib/python3.10/unittest/case.py:675\u001b[0m, in \u001b[0;36mTestCase.fail\u001b[0;34m(self, msg)\u001b[0m\n\u001b[1;32m    <a href='file:///Library/Frameworks/Python.framework/Versions/3.10/lib/python3.10/unittest/case.py?line=672'>673</a>\u001b[0m \u001b[39mdef\u001b[39;00m \u001b[39mfail\u001b[39m(\u001b[39mself\u001b[39m, msg\u001b[39m=\u001b[39m\u001b[39mNone\u001b[39;00m):\n\u001b[1;32m    <a href='file:///Library/Frameworks/Python.framework/Versions/3.10/lib/python3.10/unittest/case.py?line=673'>674</a>\u001b[0m     \u001b[39m\"\"\"Fail immediately, with the given message.\"\"\"\u001b[39;00m\n\u001b[0;32m--> <a href='file:///Library/Frameworks/Python.framework/Versions/3.10/lib/python3.10/unittest/case.py?line=674'>675</a>\u001b[0m     \u001b[39mraise\u001b[39;00m \u001b[39mself\u001b[39m\u001b[39m.\u001b[39mfailureException(msg)\n",
      "\u001b[0;31mAssertionError\u001b[0m: Tuples differ: (7, 5, 2) != (7, 0, 2)\n\nFirst differing element 1:\n5\n0\n\n- (7, 5, 2)\n?     ^\n\n+ (7, 0, 2)\n?     ^\n"
     ]
    }
   ],
   "source": [
    "from nose.tools import assert_equal\n",
    "\n",
    "class LargeContTest(object):\n",
    "    def test(self,sol):\n",
    "        assert_equal(sol([1,2,-1,3,4,-1]),(9,0,4))\n",
    "        assert_equal(sol([1,2,-1,3,4,10,10,-10,-1]),(29,0,6))\n",
    "        assert_equal(sol([-1,1, 2]),(3,1,2))\n",
    "        assert_equal(sol([-1,1]),(1,1,1))\n",
    "        assert_equal(sol([1,2,4,-3,-5,6,6,6]),(18,5,7))\n",
    "        assert_equal(sol([1,2,4,-3,-5,2,2]),(7,0,2))\n",
    "        assert_equal(sol([2, 3, -6, 3, 4, 5, -15]),(12,3,5))\n",
    "        assert_equal(sol([-20, -10, -15, -9]),(-9,3,3))\n",
    "        print('ALL TEST CASES PASSED')\n",
    "        \n",
    "#Run Test\n",
    "t = LargeContTest()\n",
    "t.test(maxSubArray)"
   ]
  },
  {
   "cell_type": "code",
   "execution_count": null,
   "metadata": {},
   "outputs": [],
   "source": []
  }
 ],
 "metadata": {
  "interpreter": {
   "hash": "aee8b7b246df8f9039afb4144a1f6fd8d2ca17a180786b69acc140d282b71a49"
  },
  "kernelspec": {
   "display_name": "Python 3.10.4 64-bit",
   "language": "python",
   "name": "python3"
  },
  "language_info": {
   "codemirror_mode": {
    "name": "ipython",
    "version": 3
   },
   "file_extension": ".py",
   "mimetype": "text/x-python",
   "name": "python",
   "nbconvert_exporter": "python",
   "pygments_lexer": "ipython3",
   "version": "3.10.4"
  },
  "orig_nbformat": 4
 },
 "nbformat": 4,
 "nbformat_minor": 2
}

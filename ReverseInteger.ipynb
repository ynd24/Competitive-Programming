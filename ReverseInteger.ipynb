{
 "cells": [
  {
   "cell_type": "markdown",
   "metadata": {},
   "source": [
    "Given a signed 32-bit integer x, return x with its digits reversed. If reversing x causes the value to go outside the signed 32-bit integer range [-231, 231 - 1], then return 0.\n",
    "Input: x = 123\n",
    "Output: 321\n",
    "Example 2:\n",
    "\n",
    "Input: x = -123\n",
    "Output: -321"
   ]
  },
  {
   "cell_type": "code",
   "execution_count": 5,
   "metadata": {},
   "outputs": [],
   "source": [
    "def reverse(x):\n",
    "        \n",
    "        \n",
    "    s = str(x) # make it a str\n",
    "    new_s =''\n",
    "        \n",
    "    if s[0] == '-': # for negative\n",
    "        new_s += s[0]\n",
    "        for i in range(1, len(s)):\n",
    "            new_s += s[len(s)-i] # essentially pop\n",
    "    else:\n",
    "        for i in range(1, len(s)):\n",
    "            new_s += s[len(s)-i]\n",
    "        new_s += s[0] # add first ele last\n",
    "        \n",
    "    r = int(new_s) # back to int\n",
    "        \n",
    "    if r > pow(2, 31) or r < pow(-2, 31): # constraints\n",
    "        return 0\n",
    "    else:\n",
    "        return r"
   ]
  },
  {
   "cell_type": "code",
   "execution_count": 4,
   "metadata": {},
   "outputs": [
    {
     "data": {
      "text/plain": [
       "-3321"
      ]
     },
     "execution_count": 4,
     "metadata": {},
     "output_type": "execute_result"
    }
   ],
   "source": [
    "reverse(-1233)"
   ]
  },
  {
   "cell_type": "code",
   "execution_count": null,
   "metadata": {},
   "outputs": [],
   "source": []
  }
 ],
 "metadata": {
  "interpreter": {
   "hash": "aee8b7b246df8f9039afb4144a1f6fd8d2ca17a180786b69acc140d282b71a49"
  },
  "kernelspec": {
   "display_name": "Python 3.10.4 64-bit",
   "language": "python",
   "name": "python3"
  },
  "language_info": {
   "codemirror_mode": {
    "name": "ipython",
    "version": 3
   },
   "file_extension": ".py",
   "mimetype": "text/x-python",
   "name": "python",
   "nbconvert_exporter": "python",
   "pygments_lexer": "ipython3",
   "version": "3.10.4"
  },
  "orig_nbformat": 4
 },
 "nbformat": 4,
 "nbformat_minor": 2
}

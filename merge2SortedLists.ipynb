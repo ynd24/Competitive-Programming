{
 "cells": [
  {
   "cell_type": "markdown",
   "metadata": {},
   "source": [
    "You are given the heads of two sorted linked lists list1 and list2.\n",
    "\n",
    "Merge the two lists in a one sorted list. The list should be made by splicing together the nodes of the first two lists.\n",
    "\n",
    "Return the head of the merged linked list.\n",
    "\n",
    " Input: list1 = [1,2,4], list2 = [1,3,4]\n",
    "Output: [1,1,2,3,4,4]"
   ]
  },
  {
   "cell_type": "code",
   "execution_count": 1,
   "metadata": {},
   "outputs": [],
   "source": [
    "class ListNode(object):\n",
    "    def __init__(self, val=0, next=None):\n",
    "        self.val = val\n",
    "        self.next = next"
   ]
  },
  {
   "cell_type": "code",
   "execution_count": 3,
   "metadata": {},
   "outputs": [],
   "source": [
    "class Solution(object):\n",
    "    \n",
    "    def mergeTwoLists(self, list1, list2):\n",
    "        \n",
    "        dummy = cur = ListNode(0) # new linked list\n",
    "        \n",
    "        \n",
    "        while list1 or list2:\n",
    "            \n",
    "            if list1 and list2:\n",
    "                add_1 = min(list1.val, list2.val) # add the min of the two lists\n",
    "                \n",
    "                cur.next = ListNode(add_1) # add min here\n",
    "                \n",
    "                if add_1 == list1.val: # if min was l1 increment that\n",
    "                    list1 = list1.next\n",
    "                else: # elif add_1 == l2 \n",
    "                    list2 = list2.next\n",
    "                    \n",
    "                cur = cur.next \n",
    "                \n",
    "                \n",
    "            elif list1: # if only l1\n",
    "                cur.next = ListNode(list1.val)\n",
    "                list1 = list1.next\n",
    "                cur = cur.next\n",
    "                \n",
    "            elif list2:\n",
    "                cur.next = ListNode(list2.val)\n",
    "                list2 = list2.next\n",
    "                cur = cur.next\n",
    "                \n",
    "        return dummy.next"
   ]
  },
  {
   "cell_type": "code",
   "execution_count": null,
   "metadata": {},
   "outputs": [],
   "source": []
  }
 ],
 "metadata": {
  "interpreter": {
   "hash": "aee8b7b246df8f9039afb4144a1f6fd8d2ca17a180786b69acc140d282b71a49"
  },
  "kernelspec": {
   "display_name": "Python 3.10.4 64-bit",
   "language": "python",
   "name": "python3"
  },
  "language_info": {
   "codemirror_mode": {
    "name": "ipython",
    "version": 3
   },
   "file_extension": ".py",
   "mimetype": "text/x-python",
   "name": "python",
   "nbconvert_exporter": "python",
   "pygments_lexer": "ipython3",
   "version": "3.10.4"
  },
  "orig_nbformat": 4
 },
 "nbformat": 4,
 "nbformat_minor": 2
}

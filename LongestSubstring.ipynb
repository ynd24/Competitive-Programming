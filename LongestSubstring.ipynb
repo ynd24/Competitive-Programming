{
 "cells": [
  {
   "cell_type": "markdown",
   "metadata": {},
   "source": [
    "Given a string s, find the length of the longest substring without repeating characters.\n",
    "\n",
    " \n",
    "\n",
    "Example 1:\n",
    "\n",
    "Input: s = \"abcabcbb\"\n",
    "Output: 3\n",
    "Explanation: The answer is \"abc\", with the length of 3."
   ]
  },
  {
   "cell_type": "code",
   "execution_count": 3,
   "metadata": {},
   "outputs": [],
   "source": [
    "class Solution(object):\n",
    "   def lengthOfLongestSubstring(self, s):\n",
    "        \n",
    "        seen = {} # dict to track letters and index\n",
    "        max_len = cur_len = 0 # for longest substring\n",
    "        \n",
    "        i = 0\n",
    "        \n",
    "        while i < len(s):\n",
    "            \n",
    "            if s[i] not in seen:\n",
    "                \n",
    "                seen[s[i]] = i # add key and value(index)\n",
    "                cur_len += 1 # increase length\n",
    "                i += 1\n",
    "                if max_len < cur_len and i == len(s): # if reached end and no repeat occurences of any letter\n",
    "                    return cur_len\n",
    "            \n",
    "            elif s[i] in seen: \n",
    "                if max_len < cur_len: # update max if necessary\n",
    "                    max_len = cur_len\n",
    "                cur_len = 0 # reset current\n",
    "                \n",
    "                i = seen[s[i]] + 1 # go back to where the prev occurence was\n",
    "                seen.clear()\n",
    "                \n",
    "\n",
    "              \n",
    "                    \n",
    "        return max_len"
   ]
  },
  {
   "cell_type": "code",
   "execution_count": 2,
   "metadata": {},
   "outputs": [],
   "source": [
    "def lengthOfLongestSubstring2(self, s):\n",
    "        \n",
    "    seen = set() \n",
    "    max_len = cur_len = 0\n",
    "        \n",
    "    i = 0\n",
    "        \n",
    "    while i < len(s):\n",
    "            \n",
    "        if s[i] not in seen:\n",
    "                \n",
    "            seen.add(s[i])\n",
    "            cur_len += 1\n",
    "            i += 1\n",
    "            if max_len < cur_len and i == len(s):\n",
    "                max_len = cur_len\n",
    "                return max_len \n",
    "            \n",
    "        elif s[i] in seen: \n",
    "            seen.clear()\n",
    "                \n",
    "            if max_len < cur_len:\n",
    "                max_len = cur_len\n",
    "            cur_len = 0\n",
    "\n",
    "            temp_str = s[i]\n",
    "            while temp_str != s[i-1]:\n",
    "                i -= 1\n",
    "                \n",
    "          \n",
    "        return max_len\n",
    "                "
   ]
  },
  {
   "cell_type": "code",
   "execution_count": null,
   "metadata": {},
   "outputs": [],
   "source": []
  }
 ],
 "metadata": {
  "interpreter": {
   "hash": "aee8b7b246df8f9039afb4144a1f6fd8d2ca17a180786b69acc140d282b71a49"
  },
  "kernelspec": {
   "display_name": "Python 3.10.4 64-bit",
   "language": "python",
   "name": "python3"
  },
  "language_info": {
   "codemirror_mode": {
    "name": "ipython",
    "version": 3
   },
   "file_extension": ".py",
   "mimetype": "text/x-python",
   "name": "python",
   "nbconvert_exporter": "python",
   "pygments_lexer": "ipython3",
   "version": "3.10.4"
  },
  "orig_nbformat": 4
 },
 "nbformat": 4,
 "nbformat_minor": 2
}

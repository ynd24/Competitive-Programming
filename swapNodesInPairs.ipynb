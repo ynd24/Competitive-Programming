{
 "cells": [
  {
   "cell_type": "markdown",
   "metadata": {},
   "source": [
    "Given a linked list, swap every two adjacent nodes and return its head. You must solve the problem without modifying the values in the list's nodes (i.e., only nodes themselves may be changed.)\n",
    "\n"
   ]
  },
  {
   "cell_type": "code",
   "execution_count": 1,
   "metadata": {},
   "outputs": [],
   "source": [
    "class ListNode(object):\n",
    "    def __init__(self, val=0, next=None):\n",
    "        self.val = val\n",
    "        self.next = next\n",
    "        \n",
    "class Solution(object):\n",
    "    \n",
    "    def swapPairs(self, head):\n",
    "        \n",
    "        dummy = cur = ListNode(0) # new LL to store\n",
    "        count = 0 # for size\n",
    "        current = head\n",
    "        \n",
    "    \n",
    "        while current:\n",
    "            count += 1 # size of LL\n",
    "            current = current.next\n",
    "            \n",
    "        current = head # reset current\n",
    "        \n",
    "        if count % 2 == 0: # if even number\n",
    "            \n",
    "            for i in range(count):\n",
    "\n",
    "                if i % 2 == 0: # if i is even\n",
    "                    cur.next = ListNode(current.next.val) # our new list will take the value of old list odd position\n",
    "                    cur = cur.next # increment new list not old\n",
    "\n",
    "\n",
    "                else: # if i is odd\n",
    "                    cur.next = ListNode(current.val) # new list will take current value as current jumps only to even indexes\n",
    "                    current = current.next.next # jump to next even index\n",
    "                    cur = cur.next \n",
    "        else: # when length is odd\n",
    "            \n",
    "            for i in range(count):\n",
    "\n",
    "                if i % 2 == 0 and i != count-1:\n",
    "                    cur.next = ListNode(current.next.val)\n",
    "                    cur = cur.next\n",
    "\n",
    "\n",
    "                elif i % 2 != 0 and i != count-1: \n",
    "                    cur.next = ListNode(current.val)\n",
    "                    current = current.next.next\n",
    "                    cur = cur.next\n",
    "                else: # add last node\n",
    "                    cur.next = ListNode(current.val)\n",
    "                    \n",
    "        return dummy.next\n",
    "        "
   ]
  },
  {
   "cell_type": "code",
   "execution_count": null,
   "metadata": {},
   "outputs": [],
   "source": []
  }
 ],
 "metadata": {
  "interpreter": {
   "hash": "aee8b7b246df8f9039afb4144a1f6fd8d2ca17a180786b69acc140d282b71a49"
  },
  "kernelspec": {
   "display_name": "Python 3.10.4 64-bit",
   "language": "python",
   "name": "python3"
  },
  "language_info": {
   "codemirror_mode": {
    "name": "ipython",
    "version": 3
   },
   "file_extension": ".py",
   "mimetype": "text/x-python",
   "name": "python",
   "nbconvert_exporter": "python",
   "pygments_lexer": "ipython3",
   "version": "3.10.4"
  },
  "orig_nbformat": 4
 },
 "nbformat": 4,
 "nbformat_minor": 2
}

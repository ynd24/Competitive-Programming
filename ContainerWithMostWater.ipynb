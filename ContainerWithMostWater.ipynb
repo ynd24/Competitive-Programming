{
 "cells": [
  {
   "cell_type": "markdown",
   "metadata": {},
   "source": [
    "You are given an integer array height of length n. There are n vertical lines drawn such that the two endpoints of the ith line are (i, 0) and (i, height[i]).\n",
    "\n",
    "Find two lines that together with the x-axis form a container, such that the container contains the most water.\n",
    "\n",
    "Return the maximum amount of water a container can store.\n",
    "\n",
    "Input: height = [1,8,6,2,5,4,8,3,7]\n",
    "Output: 49\n",
    "Explanation: The above vertical lines are represented by array [1,8,6,2,5,4,8,3,7]. In this case, the max area of water (blue section) the container can contain is 49."
   ]
  },
  {
   "cell_type": "code",
   "execution_count": 1,
   "metadata": {},
   "outputs": [],
   "source": [
    "def maxArea(height):\n",
    "\n",
    "    i = 0 # 1st pointer\n",
    "    j = len(height)-1 # 2nd pointer at end\n",
    "\n",
    "    max_area = min(height[i], height[j]) * (j-i) # min bec\n",
    "    temp_area = 0\n",
    "\n",
    "    while i < j: # i increases j decreases we keep going till they cross each other\n",
    "\n",
    "        if height[i] < height[j]: # we only want to move the pointer that has lesser height, as area will increase only if height increases as width is decreasing\n",
    "            temp_area = height[i] * (j-i) # min is h[i]\n",
    "            max_area = max(max_area, temp_area) # update max_area if necessary\n",
    "            i += 1 # i increments regardless \n",
    "        else:\n",
    "            temp_area = height[j] * (j-i)\n",
    "            max_area = max(max_area, temp_area)\n",
    "            j -= 1\n",
    "    return max_area\n",
    "        "
   ]
  },
  {
   "cell_type": "code",
   "execution_count": 2,
   "metadata": {},
   "outputs": [],
   "source": [
    "l1 = [3,9,3,4,7,2,12,6]"
   ]
  },
  {
   "cell_type": "code",
   "execution_count": 3,
   "metadata": {},
   "outputs": [
    {
     "data": {
      "text/plain": [
       "45"
      ]
     },
     "execution_count": 3,
     "metadata": {},
     "output_type": "execute_result"
    }
   ],
   "source": [
    "maxArea(l1)"
   ]
  },
  {
   "cell_type": "code",
   "execution_count": null,
   "metadata": {},
   "outputs": [],
   "source": []
  }
 ],
 "metadata": {
  "interpreter": {
   "hash": "aee8b7b246df8f9039afb4144a1f6fd8d2ca17a180786b69acc140d282b71a49"
  },
  "kernelspec": {
   "display_name": "Python 3.10.4 64-bit",
   "language": "python",
   "name": "python3"
  },
  "language_info": {
   "codemirror_mode": {
    "name": "ipython",
    "version": 3
   },
   "file_extension": ".py",
   "mimetype": "text/x-python",
   "name": "python",
   "nbconvert_exporter": "python",
   "pygments_lexer": "ipython3",
   "version": "3.10.4"
  },
  "orig_nbformat": 4
 },
 "nbformat": 4,
 "nbformat_minor": 2
}

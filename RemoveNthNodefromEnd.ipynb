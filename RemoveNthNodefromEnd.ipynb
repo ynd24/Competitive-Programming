{
 "cells": [
  {
   "cell_type": "markdown",
   "metadata": {},
   "source": [
    "Given the head of a linked list, remove the nth node from the end of the list and return its head.\n",
    "\n",
    " \n",
    "\n",
    "Example 1:\n",
    "\n",
    "\n",
    "Input: head = [1,2,3,4,5], n = 2\n",
    "Output: [1,2,3,5]"
   ]
  },
  {
   "cell_type": "code",
   "execution_count": 6,
   "metadata": {},
   "outputs": [],
   "source": [
    "# Definition for singly-linked list.\n",
    "class ListNode(object):\n",
    "    def __init__(self, val=0, next=None):\n",
    "        self.val = val\n",
    "        self.next = next"
   ]
  },
  {
   "cell_type": "code",
   "execution_count": 1,
   "metadata": {},
   "outputs": [],
   "source": [
    "class Solution(object):\n",
    "    \n",
    "    def removeNthFromEnd(self, head, n):\n",
    "        count = 0\n",
    "        current = head\n",
    "\n",
    "        while current: \n",
    "            current = current.next\n",
    "            count += 1 # size of linkedlist\n",
    "\n",
    "        current = head # reset current\n",
    "        target = count - n\n",
    "\n",
    "        for i in range(0, target):\n",
    "            current = current.next # identify node to be removed\n",
    "            \n",
    "        \n",
    "        tnode = current # node to be removed\n",
    "        current = head # reset\n",
    "        \n",
    "        while current: \n",
    "            if current == tnode: # node to be removed is head node\n",
    "                head = current.next\n",
    "                current = None\n",
    "            elif current.next == tnode:\n",
    "                current.next = current.next.next  # remove  \n",
    "            elif count == 1: # edge case\n",
    "                head = None\n",
    "                break\n",
    "            \n",
    "            try:\n",
    "                current = current.next \n",
    "            except AttributeError:\n",
    "                current = current\n",
    "                \n",
    "        return head\n",
    "        "
   ]
  },
  {
   "cell_type": "code",
   "execution_count": null,
   "metadata": {},
   "outputs": [],
   "source": []
  }
 ],
 "metadata": {
  "interpreter": {
   "hash": "aee8b7b246df8f9039afb4144a1f6fd8d2ca17a180786b69acc140d282b71a49"
  },
  "kernelspec": {
   "display_name": "Python 3.10.4 64-bit",
   "language": "python",
   "name": "python3"
  },
  "language_info": {
   "codemirror_mode": {
    "name": "ipython",
    "version": 3
   },
   "file_extension": ".py",
   "mimetype": "text/x-python",
   "name": "python",
   "nbconvert_exporter": "python",
   "pygments_lexer": "ipython3",
   "version": "3.10.4"
  },
  "orig_nbformat": 4
 },
 "nbformat": 4,
 "nbformat_minor": 2
}
